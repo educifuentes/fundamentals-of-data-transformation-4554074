{
 "cells": [
  {
   "cell_type": "code",
   "execution_count": 1,
   "metadata": {},
   "outputs": [
    {
     "name": "stdout",
     "output_type": "stream",
     "text": [
      "Deploy Flask apps for free on Ploomber Cloud! Learn more: https://ploomber.io/s/signup\n"
     ]
    },
    {
     "data": {
      "text/html": [
       "<span style=\"None\">Loading configurations from /workspaces/fundamentals-of-data-transformation-4554074/pyproject.toml.</span>"
      ],
      "text/plain": [
       "Loading configurations from /workspaces/fundamentals-of-data-transformation-4554074/pyproject.toml."
      ]
     },
     "metadata": {},
     "output_type": "display_data"
    },
    {
     "data": {
      "text/html": [
       "<span style=\"None\">Settings changed:</span>"
      ],
      "text/plain": [
       "Settings changed:"
      ]
     },
     "metadata": {},
     "output_type": "display_data"
    },
    {
     "data": {
      "text/html": [
       "\n",
       "<table>\n",
       "    <thead>\n",
       "        <tr>\n",
       "            <th>Config</th>\n",
       "            <th>value</th>\n",
       "        </tr>\n",
       "    </thead>\n",
       "    <tbody>\n",
       "        <tr>\n",
       "            <td>feedback</td>\n",
       "            <td>True</td>\n",
       "        </tr>\n",
       "        <tr>\n",
       "            <td>autopandas</td>\n",
       "            <td>True</td>\n",
       "        </tr>\n",
       "        <tr>\n",
       "            <td>displaylimit</td>\n",
       "            <td>10</td>\n",
       "        </tr>\n",
       "        <tr>\n",
       "            <td>displaycon</td>\n",
       "            <td>False</td>\n",
       "        </tr>\n",
       "    </tbody>\n",
       "</table>"
      ],
      "text/plain": [
       "\n",
       "+--------------+-------+\n",
       "|    Config    | value |\n",
       "+--------------+-------+\n",
       "|   feedback   |  True |\n",
       "|  autopandas  |  True |\n",
       "| displaylimit |   10  |\n",
       "|  displaycon  | False |\n",
       "+--------------+-------+"
      ]
     },
     "metadata": {},
     "output_type": "display_data"
    },
    {
     "data": {
      "text/html": [
       "<div>\n",
       "<style scoped>\n",
       "    .dataframe tbody tr th:only-of-type {\n",
       "        vertical-align: middle;\n",
       "    }\n",
       "\n",
       "    .dataframe tbody tr th {\n",
       "        vertical-align: top;\n",
       "    }\n",
       "\n",
       "    .dataframe thead th {\n",
       "        text-align: right;\n",
       "    }\n",
       "</style>\n",
       "<table border=\"1\" class=\"dataframe\">\n",
       "  <thead>\n",
       "    <tr style=\"text-align: right;\">\n",
       "      <th></th>\n",
       "      <th>Count</th>\n",
       "    </tr>\n",
       "  </thead>\n",
       "  <tbody>\n",
       "    <tr>\n",
       "      <th>0</th>\n",
       "      <td>224</td>\n",
       "    </tr>\n",
       "  </tbody>\n",
       "</table>\n",
       "</div>"
      ],
      "text/plain": [
       "   Count\n",
       "0    224"
      ]
     },
     "execution_count": 1,
     "metadata": {},
     "output_type": "execute_result"
    }
   ],
   "source": [
    "import duckdb\n",
    "\n",
    "# Load SQL extension\n",
    "%load_ext sql\n",
    "\n",
    "# Initialize 🦆 DuckDB connection\n",
    "conn = duckdb.connect()\n",
    "\n",
    "# Import database\n",
    "%sql conn --alias duckdb\n",
    "%sql IMPORT DATABASE '../../data/nps';"
   ]
  },
  {
   "cell_type": "markdown",
   "metadata": {},
   "source": [
    "Build a query to fetch all the parks in Utah (UT) and order the results by the park name."
   ]
  },
  {
   "cell_type": "code",
   "execution_count": null,
   "metadata": {
    "vscode": {
     "languageId": "sql"
    }
   },
   "outputs": [],
   "source": [
    "%%sql\n",
    "SELECT\n",
    "    name, \n",
    "    states\n",
    "FROM nps_public_data.parks p\n",
    "WHERE p.states ILIKE '%UT%'\n",
    "ORDER BY 1\n",
    "LIMIT 5;"
   ]
  },
  {
   "cell_type": "markdown",
   "metadata": {},
   "source": [
    "Build a query to fetch all the National Parks that cross state boundaries (i.e. parks that are in more than one state). Remember to filter `parks` for *only* National Parks.\n",
    "\n",
    "Hint: `parks.states` is a string representation of a list, i.e. `UT,CA,NC`. The `parks` table includes parks that aren't National Parks."
   ]
  },
  {
   "cell_type": "code",
   "execution_count": null,
   "metadata": {
    "vscode": {
     "languageId": "sql"
    }
   },
   "outputs": [],
   "source": [
    "%%sql\n",
    "SELECT\n",
    "    name,\n",
    "    states\n",
    "FROM nps_public_data.parks p\n",
    "WHERE p.states LIKE '%,%'\n",
    "    AND p.designation ILIKE '%National Park%'"
   ]
  },
  {
   "cell_type": "markdown",
   "metadata": {},
   "source": [
    "For all national parks, return the `states` column as a `STRUCT` type with each element as a state."
   ]
  },
  {
   "cell_type": "code",
   "execution_count": null,
   "metadata": {
    "vscode": {
     "languageId": "sql"
    }
   },
   "outputs": [],
   "source": [
    "%%sql\n",
    "SELECT\n",
    "    name,\n",
    "    states,\n",
    "    split(states, ',') ::string[] AS states_list\n",
    "FROM nps_public_data.parks p\n",
    "WHERE 1 = 1\n",
    "    AND p.designation ILIKE '%National Park%'"
   ]
  },
  {
   "cell_type": "markdown",
   "metadata": {},
   "source": [
    "Which parks are in **either** Montana (MT) or Wyoming (WY)?"
   ]
  },
  {
   "cell_type": "code",
   "execution_count": null,
   "metadata": {
    "vscode": {
     "languageId": "sql"
    }
   },
   "outputs": [],
   "source": [
    "%%sql\n",
    "SELECT\n",
    "    name,\n",
    "    states,\n",
    "    split(states, ',') ::string[] AS states_list\n",
    "FROM nps_public_data.parks p\n",
    "WHERE 1 = 1\n",
    "    AND p.designation ILIKE '%National Park%'\n",
    "    AND list_has_any(states_list, ['MT', 'WY'])"
   ]
  },
  {
   "cell_type": "markdown",
   "metadata": {},
   "source": [
    "What about _both_ Montana _and_ Wyoming?"
   ]
  },
  {
   "cell_type": "code",
   "execution_count": null,
   "metadata": {
    "vscode": {
     "languageId": "sql"
    }
   },
   "outputs": [],
   "source": [
    "%%sql\n",
    "SELECT\n",
    "    name,\n",
    "    states,\n",
    "    split(states, ',') ::string[] AS states_list\n",
    "FROM nps_public_data.parks p\n",
    "WHERE 1 = 1\n",
    "    AND p.designation ILIKE '%National Park%'\n",
    "    AND list_has_all(states_list, ['MT', 'WY'])"
   ]
  },
  {
   "cell_type": "markdown",
   "metadata": {},
   "source": [
    "Which park is in the greatest number of states? How many states>"
   ]
  },
  {
   "cell_type": "code",
   "execution_count": null,
   "metadata": {
    "vscode": {
     "languageId": "sql"
    }
   },
   "outputs": [],
   "source": [
    "%%sql\n",
    "SELECT\n",
    "    name,\n",
    "    states,\n",
    "    split(states, ',') ::string[] AS states_list, \n",
    "    length(states_list) AS num_states \n",
    "FROM nps_public_data.parks p\n",
    "WHERE 1 = 1\n",
    "    AND p.designation LIKE 'National Park%'\n",
    "ORDER BY num_states DESC"
   ]
  },
  {
   "cell_type": "markdown",
   "metadata": {},
   "source": [
    "Now, how many parks are in each \"group\" of state border-crossings? i.e. how many parks are in 1 state, 2 states, 3 states, etc.\n",
    "\n",
    "Hint: we're grouping by the _number_ of states."
   ]
  },
  {
   "cell_type": "code",
   "execution_count": null,
   "metadata": {
    "vscode": {
     "languageId": "sql"
    }
   },
   "outputs": [],
   "source": [
    "%%sql\n",
    "WITH num_states AS (\n",
    "    SELECT\n",
    "        name,\n",
    "        states,\n",
    "        split(states, ',') ::string[] AS states_list, \n",
    "        length(states_list) AS num_states \n",
    "    FROM nps_public_data.parks p\n",
    "    WHERE 1 = 1\n",
    "        AND p.designation ILIKE '%National Park%'\n",
    "    ORDER BY num_states DESC\n",
    ")\n",
    "SELECT\n",
    "    num_states,\n",
    "    COUNT(*) as num_parks\n",
    "FROM num_states\n",
    "GROUP BY 1\n",
    "ORDER BY 1"
   ]
  },
  {
   "cell_type": "markdown",
   "metadata": {},
   "source": [
    "What's the percentage share of the total? i.e. what *percentage* of parks are in 1 state, 2 states, etc\n",
    "\n",
    "Hint: window functions might be helpful."
   ]
  },
  {
   "cell_type": "code",
   "execution_count": null,
   "metadata": {
    "vscode": {
     "languageId": "sql"
    }
   },
   "outputs": [],
   "source": [
    "%%sql\n",
    "WITH num_states AS (\n",
    "    SELECT\n",
    "        name,\n",
    "        states,\n",
    "        split(states, ',') ::string[] AS states_list, \n",
    "        length(states_list) AS num_states \n",
    "    FROM nps_public_data.parks p\n",
    "    WHERE 1 = 1\n",
    "        AND p.designation ILIKE '%National Park%'\n",
    "    ORDER BY num_states DESC\n",
    ")\n",
    "SELECT\n",
    "    num_states,\n",
    "    COUNT(*) as num_parks,\n",
    "    ROUND(COUNT(*) / SUM(COUNT(*)) OVER (), 2) AS pct_parks\n",
    "FROM num_states\n",
    "GROUP BY 1\n",
    "ORDER BY 1"
   ]
  },
  {
   "cell_type": "markdown",
   "metadata": {},
   "source": [
    "Write a query that returns the _largest_ campsite in each park. \n",
    "\n",
    "As a bonus, do this _without_ using a CTE (filter in the same query)"
   ]
  },
  {
   "cell_type": "code",
   "execution_count": null,
   "metadata": {
    "vscode": {
     "languageId": "sql"
    }
   },
   "outputs": [],
   "source": [
    "%%sql\n",
    "SELECT\n",
    "    p.fullname as park_name,\n",
    "    c.name as campground_name,\n",
    "    c.numberofsitesfirstcomefirstserve + c.numberofsitesreservable as num_campsites,\n",
    "    RANK() OVER (PARTITION BY park_name ORDER BY c.numberofsitesfirstcomefirstserve + c.numberofsitesreservable DESC) as park_campsites_rank,\n",
    "FROM nps_public_data.campgrounds c\n",
    "INNER JOIN nps_public_data.parks p\n",
    "    ON c.parkcode = p.parkcode\n",
    "    AND p.designation LIKE 'National Park%'\n",
    "QUALIFY park_campsites_rank = 1\n",
    "ORDER BY num_campsites DESC, park_name, park_campsites_rank ASC\n",
    "LIMIT 12;"
   ]
  },
  {
   "cell_type": "markdown",
   "metadata": {},
   "source": [
    "Say you'll be in California (CA) this spring and have time for three National Parks visits. \n",
    "\n",
    "How many combinations of national parks can you visit? Can you return the combinations in a list ordered by the name of the first park?\n",
    "\n",
    "Hint: self-joins and cross joins might be useful."
   ]
  },
  {
   "cell_type": "code",
   "execution_count": null,
   "metadata": {
    "vscode": {
     "languageId": "sql"
    }
   },
   "outputs": [],
   "source": [
    "%%sql\n",
    "-- What about 3?\n",
    "WITH california_parks AS (\n",
    "    SELECT\n",
    "        *\n",
    "    FROM nps_public_data.parks p\n",
    "    WHERE states ILIKE '%CA%'\n",
    "        AND p.designation ILIKE '%National Park%'\n",
    ")\n",
    "SELECT\n",
    "    cp.name as first_visit,\n",
    "    cp2.name as second_visit,\n",
    "    cp3.name as third_visit,\n",
    "    ROW_NUMBER() OVER (ORDER BY cp.fullName ASC) as rn\n",
    "FROM california_parks cp\n",
    "CROSS JOIN california_parks cp2\n",
    "CROSS JOIN california_parks cp3\n",
    "WHERE 1 = 1\n",
    "    AND cp.fullName != cp2.fullName\n",
    "    AND cp.fullName != cp3.fullName\n",
    "    AND cp2.fullName != cp3.fullName\n",
    "ORDER BY rn asc"
   ]
  },
  {
   "cell_type": "markdown",
   "metadata": {},
   "source": [
    "For our final exercise— find the combinations in alphabetical order, that is, the first letter of each visit occurs in the order of the alphabet, e.g. `[C]hannel Islands, [D]eath Valley, [J]oshua Tree` would satisfy that condition.\n",
    "\n",
    "Hint: how can you compare strings for alphabetical order? (casing matters)"
   ]
  },
  {
   "cell_type": "code",
   "execution_count": null,
   "metadata": {
    "vscode": {
     "languageId": "sql"
    }
   },
   "outputs": [],
   "source": [
    "%%sql\n",
    "WITH california_parks AS (\n",
    "    SELECT\n",
    "        *\n",
    "    FROM nps_public_data.parks p\n",
    "    WHERE states ILIKE '%CA%'\n",
    "        AND p.designation ILIKE '%National Park%'\n",
    "), o AS (\n",
    "    SELECT\n",
    "        cp.name as first_visit,\n",
    "        cp2.name as second_visit,\n",
    "        cp3.name as third_visit,\n",
    "    FROM california_parks cp\n",
    "    CROSS JOIN california_parks cp2\n",
    "    CROSS JOIN california_parks cp3\n",
    "    WHERE 1 = 1\n",
    "        AND cp.fullName != cp2.fullName\n",
    "        AND cp.fullName != cp3.fullName\n",
    "        AND cp2.fullName != cp3.fullName\n",
    ")\n",
    "SELECT\n",
    "    *,\n",
    "    (lower(first_visit) < lower(second_visit)) \n",
    "        AND (lower(second_visit) < lower(third_visit)) as is_ascending,\n",
    "    ROW_NUMBER() OVER (ORDER BY first_visit ASC) as rn\n",
    "FROM o\n",
    "WHERE is_ascending\n"
   ]
  }
 ],
 "metadata": {
  "kernelspec": {
   "display_name": "Python 3",
   "language": "python",
   "name": "python3"
  },
  "language_info": {
   "codemirror_mode": {
    "name": "ipython",
    "version": 3
   },
   "file_extension": ".py",
   "mimetype": "text/x-python",
   "name": "python",
   "nbconvert_exporter": "python",
   "pygments_lexer": "ipython3",
   "version": "3.12.1"
  }
 },
 "nbformat": 4,
 "nbformat_minor": 2
}

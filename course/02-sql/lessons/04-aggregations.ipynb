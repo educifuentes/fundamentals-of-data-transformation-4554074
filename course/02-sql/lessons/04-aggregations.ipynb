{
 "cells": [
  {
   "cell_type": "code",
   "execution_count": 1,
   "metadata": {},
   "outputs": [
    {
     "data": {
      "text/html": [
       "<span style=\"None\">Loading configurations from /workspaces/fundamentals-of-data-transformation-4554074/pyproject.toml.</span>"
      ],
      "text/plain": [
       "Loading configurations from /workspaces/fundamentals-of-data-transformation-4554074/pyproject.toml."
      ]
     },
     "metadata": {},
     "output_type": "display_data"
    },
    {
     "data": {
      "text/html": [
       "<span style=\"None\">Settings changed:</span>"
      ],
      "text/plain": [
       "Settings changed:"
      ]
     },
     "metadata": {},
     "output_type": "display_data"
    },
    {
     "data": {
      "text/html": [
       "\n",
       "<table>\n",
       "    <thead>\n",
       "        <tr>\n",
       "            <th>Config</th>\n",
       "            <th>value</th>\n",
       "        </tr>\n",
       "    </thead>\n",
       "    <tbody>\n",
       "        <tr>\n",
       "            <td>feedback</td>\n",
       "            <td>True</td>\n",
       "        </tr>\n",
       "        <tr>\n",
       "            <td>autopandas</td>\n",
       "            <td>True</td>\n",
       "        </tr>\n",
       "        <tr>\n",
       "            <td>displaylimit</td>\n",
       "            <td>10</td>\n",
       "        </tr>\n",
       "        <tr>\n",
       "            <td>displaycon</td>\n",
       "            <td>False</td>\n",
       "        </tr>\n",
       "    </tbody>\n",
       "</table>"
      ],
      "text/plain": [
       "\n",
       "+--------------+-------+\n",
       "|    Config    | value |\n",
       "+--------------+-------+\n",
       "|   feedback   |  True |\n",
       "|  autopandas  |  True |\n",
       "| displaylimit |   10  |\n",
       "|  displaycon  | False |\n",
       "+--------------+-------+"
      ]
     },
     "metadata": {},
     "output_type": "display_data"
    },
    {
     "data": {
      "text/html": [
       "<div>\n",
       "<style scoped>\n",
       "    .dataframe tbody tr th:only-of-type {\n",
       "        vertical-align: middle;\n",
       "    }\n",
       "\n",
       "    .dataframe tbody tr th {\n",
       "        vertical-align: top;\n",
       "    }\n",
       "\n",
       "    .dataframe thead th {\n",
       "        text-align: right;\n",
       "    }\n",
       "</style>\n",
       "<table border=\"1\" class=\"dataframe\">\n",
       "  <thead>\n",
       "    <tr style=\"text-align: right;\">\n",
       "      <th></th>\n",
       "      <th>Count</th>\n",
       "    </tr>\n",
       "  </thead>\n",
       "  <tbody>\n",
       "    <tr>\n",
       "      <th>0</th>\n",
       "      <td>224</td>\n",
       "    </tr>\n",
       "  </tbody>\n",
       "</table>\n",
       "</div>"
      ],
      "text/plain": [
       "   Count\n",
       "0    224"
      ]
     },
     "execution_count": 1,
     "metadata": {},
     "output_type": "execute_result"
    }
   ],
   "source": [
    "import duckdb\n",
    "\n",
    "# Load SQL extension\n",
    "%load_ext sql\n",
    "\n",
    "# Initialize 🦆 DuckDB connection\n",
    "conn = duckdb.connect()\n",
    "\n",
    "# Import database\n",
    "%sql conn --alias duckdb\n",
    "%sql IMPORT DATABASE '../../data/nps';"
   ]
  },
  {
   "cell_type": "markdown",
   "metadata": {},
   "source": [
    "Ok, now we'll have some fun and dig into _aggregations_ in SQL! Let's start with our first... The most basic, `COUNT`!"
   ]
  },
  {
   "cell_type": "code",
   "execution_count": null,
   "metadata": {},
   "outputs": [],
   "source": [
    "%%sql\n",
    "SELECT\n",
    "    COUNT(*) as num_parks\n",
    "FROM nps_public_data.parks p\n",
    "WHERE designation = 'National Park'"
   ]
  },
  {
   "cell_type": "markdown",
   "metadata": {},
   "source": [
    "We can also count by state:"
   ]
  },
  {
   "cell_type": "code",
   "execution_count": null,
   "metadata": {},
   "outputs": [],
   "source": [
    "%%sql\n",
    "SELECT\n",
    "    states,\n",
    "    COUNT(*) as num_parks\n",
    "FROM nps_public_data.parks p\n",
    "WHERE designation = 'National Park'\n",
    "GROUP BY 1\n",
    "ORDER BY 2 DESC\n",
    "LIMIT 20;"
   ]
  },
  {
   "cell_type": "markdown",
   "metadata": {},
   "source": [
    "But we note that states are defined as comma separate strings, so we'll need to split those strings to get a list of states for each park. We can do that with:"
   ]
  },
  {
   "cell_type": "code",
   "execution_count": 2,
   "metadata": {},
   "outputs": [
    {
     "data": {
      "text/html": [
       "<div>\n",
       "<style scoped>\n",
       "    .dataframe tbody tr th:only-of-type {\n",
       "        vertical-align: middle;\n",
       "    }\n",
       "\n",
       "    .dataframe tbody tr th {\n",
       "        vertical-align: top;\n",
       "    }\n",
       "\n",
       "    .dataframe thead th {\n",
       "        text-align: right;\n",
       "    }\n",
       "</style>\n",
       "<table border=\"1\" class=\"dataframe\">\n",
       "  <thead>\n",
       "    <tr style=\"text-align: right;\">\n",
       "      <th></th>\n",
       "      <th>fullName</th>\n",
       "      <th>state</th>\n",
       "    </tr>\n",
       "  </thead>\n",
       "  <tbody>\n",
       "    <tr>\n",
       "      <th>0</th>\n",
       "      <td>Isle Royale National Park</td>\n",
       "      <td>MI</td>\n",
       "    </tr>\n",
       "    <tr>\n",
       "      <th>1</th>\n",
       "      <td>Black Canyon Of The Gunnison National Park</td>\n",
       "      <td>CO</td>\n",
       "    </tr>\n",
       "    <tr>\n",
       "      <th>2</th>\n",
       "      <td>Grand Canyon National Park</td>\n",
       "      <td>AZ</td>\n",
       "    </tr>\n",
       "    <tr>\n",
       "      <th>3</th>\n",
       "      <td>Crater Lake National Park</td>\n",
       "      <td>OR</td>\n",
       "    </tr>\n",
       "    <tr>\n",
       "      <th>4</th>\n",
       "      <td>Yellowstone National Park</td>\n",
       "      <td>ID</td>\n",
       "    </tr>\n",
       "  </tbody>\n",
       "</table>\n",
       "</div>"
      ],
      "text/plain": [
       "                                     fullName state\n",
       "0                   Isle Royale National Park    MI\n",
       "1  Black Canyon Of The Gunnison National Park    CO\n",
       "2                  Grand Canyon National Park    AZ\n",
       "3                   Crater Lake National Park    OR\n",
       "4                   Yellowstone National Park    ID"
      ]
     },
     "execution_count": 2,
     "metadata": {},
     "output_type": "execute_result"
    }
   ],
   "source": [
    "%%sql\n",
    "SELECT\n",
    "    fullname,\n",
    "    UNNEST(\n",
    "        SPLIT(states, ',')::string[]\n",
    "        ) as state\n",
    "FROM nps_public_data.parks p\n",
    "WHERE designation = 'National Park'\n",
    "LIMIT 5"
   ]
  },
  {
   "cell_type": "markdown",
   "metadata": {},
   "source": [
    "This _will_ produce multiple records for the same park (those in multiple states), but that's what we want! Now we can count the number of parks across state lines using an aggregation"
   ]
  },
  {
   "cell_type": "code",
   "execution_count": null,
   "metadata": {},
   "outputs": [],
   "source": [
    "%%sql\n",
    "WITH park_list AS (\n",
    "    SELECT\n",
    "        fullname,\n",
    "        UNNEST(\n",
    "            SPLIT(states, ',')::string[]\n",
    "            ) as state\n",
    "    FROM nps_public_data.parks p\n",
    "    WHERE designation = 'National Park'\n",
    ")\n",
    "SELECT\n",
    "    state,\n",
    "    COUNT(*) as num_parks\n",
    "FROM park_list\n",
    "GROUP BY 1\n",
    "ORDER BY 2 DESC, 1\n",
    "LIMIT 10"
   ]
  },
  {
   "cell_type": "markdown",
   "metadata": {},
   "source": [
    "Again, note a _pattern_: in order to count what we needed, we had to derive _one row per state per park_. Our original query gave us one row per park with mulitple states. So we _transformed our data_ as an intermediate step towards our final end.\n",
    "\n",
    "This intermediate transformation is common in obtaining the format of data we need to perform our aggregation:\n",
    "\n",
    "1. Inspect data and determine your aggregation, i.e. counting parks by state\n",
    "2. Note the current _shape_ or format, i.e. at the state level\n",
    "3. Note the _desired_ format, i.e. at the state-park level\n",
    "4. Transform to get to the desired format, then aggregate\n",
    "\n",
    "How do we find the campgrounds with the least and most sites using aggregations?\n",
    "\n",
    "- Obtain the total number of campsites for each campground (that's a national park)\n",
    "- Get the min / max numbers\n",
    "- Filter the results by those numbers"
   ]
  },
  {
   "cell_type": "code",
   "execution_count": null,
   "metadata": {
    "vscode": {
     "languageId": "sql"
    }
   },
   "outputs": [],
   "source": [
    "%%sql\n",
    "WITH park_campgrounds AS (\n",
    "    SELECT\n",
    "        c.name as campgroud_name,\n",
    "        p.fullname as park_name,\n",
    "        c.numberofsitesfirstcomefirstserve + c.numberofsitesreservable as total_sites,\n",
    "    FROM nps_public_data.campgrounds c\n",
    "    INNER JOIN nps_public_data.parks p\n",
    "        ON c.parkcode = p.parkcode\n",
    "        AND p.designation = 'National Park'\n",
    "    GROUP BY 1,2,3\n",
    "), min_max_sites AS (\n",
    "SELECT\n",
    "    MIN(total_sites) as min_sites,\n",
    "    MAX(total_sites) as max_sites\n",
    "FROM park_campgrounds\n",
    "WHERE total_sites > 0\n",
    ")\n",
    "SELECT\n",
    "    campgroud_name,\n",
    "    total_sites as num_sites,\n",
    "    CASE total_sites WHEN min_sites THEN 'least' ELSE 'most' END as sites_rank\n",
    "FROM park_campgrounds pc\n",
    "INNER JOIN min_max_sites mms\n",
    "    ON (pc.total_sites = mms.min_sites OR pc.total_sites = mms.max_sites)\n",
    "ORDER BY num_sites, campgroud_name"
   ]
  },
  {
   "cell_type": "markdown",
   "metadata": {},
   "source": [
    "What about the parks? We can follow similar logic"
   ]
  },
  {
   "cell_type": "code",
   "execution_count": null,
   "metadata": {
    "vscode": {
     "languageId": "sql"
    }
   },
   "outputs": [],
   "source": [
    "%%sql\n",
    "WITH park_campgrounds AS (\n",
    "    SELECT\n",
    "        c.name as campgroud_name,\n",
    "        p.fullname as park_name,\n",
    "        c.numberofsitesfirstcomefirstserve + c.numberofsitesreservable as total_sites,\n",
    "    FROM nps_public_data.campgrounds c\n",
    "    INNER JOIN nps_public_data.parks p\n",
    "        ON c.parkcode = p.parkcode\n",
    "        AND p.designation = 'National Park'\n",
    "    GROUP BY 1,2,3\n",
    "), park_sites AS (\n",
    "    SELECT\n",
    "        park_name,\n",
    "        SUM(total_sites) as num_sites\n",
    "    FROM park_campgrounds\n",
    "    GROUP BY 1\n",
    "    ORDER BY 2 DESC\n",
    "), min_max_sites AS (\n",
    "    SELECT\n",
    "        MIN(num_sites) as min_sites,\n",
    "        MAX(num_sites) as max_sites\n",
    "    FROM park_sites ps\n",
    ")\n",
    "SELECT\n",
    "    ps.*,\n",
    "    CASE num_sites WHEN min_sites THEN 'least' ELSE 'most' END as sites_rank\n",
    "FROM park_sites ps\n",
    "INNER JOIN min_max_sites mms\n",
    "    ON (num_sites = mms.min_sites or num_sites = mms.max_sites)\n",
    "ORDER BY ps.num_sites DESC"
   ]
  },
  {
   "cell_type": "markdown",
   "metadata": {},
   "source": [
    "Another important aggregation pattern is _using boolean logic within aggregations_ as filters! For example\n",
    "\n",
    "- `COUNT DISTINCT`\n",
    "- `COUNT CASE WHEN`\n",
    "\n",
    "This lets us filter our count _without_ filtering the underlying data."
   ]
  },
  {
   "cell_type": "code",
   "execution_count": null,
   "metadata": {
    "vscode": {
     "languageId": "sql"
    }
   },
   "outputs": [],
   "source": [
    "%%sql\n",
    "SELECT\n",
    "    p.fullname as park_name,\n",
    "    -- COUNT the number of campgrounds\n",
    "    COUNT(DISTINCT c.name) as num_campgrounds,\n",
    "    -- Get the average number of sites— what is this returning?\n",
    "    AVG(numberofsitesreservable) as avg_sites_reservable,\n",
    "    AVG(numberofsitesfirstcomefirstserve) as avg_sites_fcfs,\n",
    "    AVG(numberofsitesreservable + numberofsitesfirstcomefirstserve) as avg_total_sites\n",
    "FROM nps_public_data.campgrounds c\n",
    "INNER JOIN nps_public_data.parks p\n",
    "    ON c.parkcode = p.parkcode\n",
    "    AND p.designation = 'National Park'\n",
    "GROUP BY 1\n",
    "ORDER BY 2 DESC\n",
    "LIMIT 10\n",
    "-- Read more about aggregates here: https://duckdb.org/docs/sql/aggregates"
   ]
  },
  {
   "cell_type": "code",
   "execution_count": null,
   "metadata": {
    "vscode": {
     "languageId": "sql"
    }
   },
   "outputs": [],
   "source": [
    "%%sql\n",
    "SELECT\n",
    "    p.name as park_name,\n",
    "    COUNT(CASE WHEN c.numberofsitesreservable > 0 THEN 1 END) as num_reservable_campgrounds,\n",
    "    COUNT(CASE WHEN c.numberofsitesfirstcomefirstserve > 0 THEN 1 END) as num_fcfs_campgrounds,\n",
    "FROM nps_public_data.campgrounds c\n",
    "INNER JOIN nps_public_data.parks p\n",
    "    ON c.parkcode = p.parkcode\n",
    "    AND p.designation = 'National Park'\n",
    "GROUP BY 1\n",
    "ORDER BY 2 DESC\n",
    "LIMIT 5"
   ]
  },
  {
   "cell_type": "markdown",
   "metadata": {},
   "source": [
    "There's lots more to aggregations, but they're pretty simple. The best way to get started will be to aggregate data in practice. Remember the basics:\n",
    "- Aggregations collapse rows.\n",
    "- Rows that _aren't_ being aggregated must be `GROUP`ed.\n",
    "- `GROUP` statements appear at the end of a query.\n",
    "- Duplicate rows may skew aggregates if not properly accounted for."
   ]
  }
 ],
 "metadata": {
  "kernelspec": {
   "display_name": "Python 3",
   "language": "python",
   "name": "python3"
  },
  "language_info": {
   "codemirror_mode": {
    "name": "ipython",
    "version": 3
   },
   "file_extension": ".py",
   "mimetype": "text/x-python",
   "name": "python",
   "nbconvert_exporter": "python",
   "pygments_lexer": "ipython3",
   "version": "3.12.1"
  }
 },
 "nbformat": 4,
 "nbformat_minor": 2
}

{
 "cells": [
  {
   "cell_type": "code",
   "execution_count": 2,
   "metadata": {},
   "outputs": [],
   "source": [
    "import pandas as pd\n",
    "\n",
    "open_seven_days_df = pd.read_parquet(\"../../data/pandas/open_seven_days_df.parquet\")"
   ]
  },
  {
   "cell_type": "markdown",
   "metadata": {},
   "source": [
    "A theme in this course will be learning transformations across languages— the ability to select the proper tool for the job depends on a knowledge of _what tools exist_.\n",
    "\n",
    "In this lesson, we'll cover select + filter operations in Pandas."
   ]
  },
  {
   "cell_type": "markdown",
   "metadata": {},
   "source": [
    "Creating columns in Pandas is as simple as assigning those columns through the syntax\n",
    "\n",
    "```python\n",
    "dataframe['column_name'] = column_value\n",
    "```"
   ]
  },
  {
   "cell_type": "code",
   "execution_count": 3,
   "metadata": {},
   "outputs": [],
   "source": [
    "import numpy as np\n",
    "\n",
    "open_seven_days_df[\"closed_open\"] = np.where(\n",
    "    open_seven_days_df[\"standardHours.thursday\"] == \"Closed\", \"Closed\", \"Open\"\n",
    ")\n",
    "open_seven_days_df[\"is_closed\"] = np.where(\n",
    "    open_seven_days_df[\"standardHours.thursday\"] == \"Closed\", True, False\n",
    ")"
   ]
  },
  {
   "cell_type": "markdown",
   "metadata": {},
   "source": [
    "Now you might be saying \"when are we assigning a single value to a column vs. performing a calculation on a column?\" and that would be a great question! The answer lies in _vectorization_— the process of performing calculations on entire columns at once. \n",
    "\n",
    "Certain operations can be vectorized and act on other columns, while others need to be _applied_ row-by-row. We'll talk about applying row-wise functions later in the course, but for now we'll focus on vectorized operations. "
   ]
  },
  {
   "cell_type": "code",
   "execution_count": 4,
   "metadata": {},
   "outputs": [
    {
     "data": {
      "text/plain": [
       "Index(['relevanceScore', 'designation', 'weatherInfo', 'addresses',\n",
       "       'operating_hours', 'entrancePasses', 'name', 'description',\n",
       "       'directionsUrl', 'fees', 'topics', 'states', 'entranceFees', 'contacts',\n",
       "       'activities', 'url', 'longitude', 'id', 'images', 'directionsInfo',\n",
       "       'fullName', 'parkCode', 'latLong', 'latitude', 'category',\n",
       "       'operating_hours_description', 'exceptions', 'standardHours.friday',\n",
       "       'standardHours.sunday', 'standardHours.thursday',\n",
       "       'standardHours.tuesday', 'standardHours.saturday',\n",
       "       'standardHours.monday', 'standardHours.wednesday', 'monday_hours',\n",
       "       'tuesday_hours', 'wednesday_hours', 'thursday_hours', 'friday_hours',\n",
       "       'saturday_hours', 'sunday_hours', 'open_seven_days_a_week',\n",
       "       'closed_open', 'is_closed'],\n",
       "      dtype='object')"
      ]
     },
     "execution_count": 4,
     "metadata": {},
     "output_type": "execute_result"
    }
   ],
   "source": [
    "open_seven_days_df.columns"
   ]
  },
  {
   "cell_type": "code",
   "execution_count": null,
   "metadata": {},
   "outputs": [],
   "source": [
    "open_seven_days_df[\"open_closed\"] = (\n",
    "    \"Today, the park is: \" + open_seven_days_df[\"closed_open\"]\n",
    ")\n",
    "\n",
    "open_seven_days_df[\"open_closed\"]"
   ]
  },
  {
   "cell_type": "markdown",
   "metadata": {},
   "source": [
    "It's also possible to select in Pandas using `iloc` and `loc`. As the name suggest, one is for selecting an _index_, the other a _column_"
   ]
  },
  {
   "cell_type": "code",
   "execution_count": 5,
   "metadata": {},
   "outputs": [
    {
     "data": {
      "text/html": [
       "<div>\n",
       "<style scoped>\n",
       "    .dataframe tbody tr th:only-of-type {\n",
       "        vertical-align: middle;\n",
       "    }\n",
       "\n",
       "    .dataframe tbody tr th {\n",
       "        vertical-align: top;\n",
       "    }\n",
       "\n",
       "    .dataframe thead th {\n",
       "        text-align: right;\n",
       "    }\n",
       "</style>\n",
       "<table border=\"1\" class=\"dataframe\">\n",
       "  <thead>\n",
       "    <tr style=\"text-align: right;\">\n",
       "      <th></th>\n",
       "      <th>relevanceScore</th>\n",
       "      <th>designation</th>\n",
       "      <th>weatherInfo</th>\n",
       "      <th>addresses</th>\n",
       "      <th>operating_hours</th>\n",
       "      <th>entrancePasses</th>\n",
       "      <th>name</th>\n",
       "      <th>description</th>\n",
       "      <th>directionsUrl</th>\n",
       "      <th>fees</th>\n",
       "      <th>...</th>\n",
       "      <th>monday_hours</th>\n",
       "      <th>tuesday_hours</th>\n",
       "      <th>wednesday_hours</th>\n",
       "      <th>thursday_hours</th>\n",
       "      <th>friday_hours</th>\n",
       "      <th>saturday_hours</th>\n",
       "      <th>sunday_hours</th>\n",
       "      <th>open_seven_days_a_week</th>\n",
       "      <th>closed_open</th>\n",
       "      <th>is_closed</th>\n",
       "    </tr>\n",
       "  </thead>\n",
       "  <tbody>\n",
       "    <tr>\n",
       "      <th>6</th>\n",
       "      <td>1</td>\n",
       "      <td>Memorial Parkway</td>\n",
       "      <td>Summers on the parkway are generally hot and h...</td>\n",
       "      <td>[{'city': 'McLean', 'countryCode': 'US', 'line...</td>\n",
       "      <td>{'description': 'The George Washington Memoria...</td>\n",
       "      <td>[]</td>\n",
       "      <td>George Washington</td>\n",
       "      <td>The George Washington Memorial Parkway was des...</td>\n",
       "      <td>http://www.nps.gov/gwmp/planyourvisit/directio...</td>\n",
       "      <td>[]</td>\n",
       "      <td>...</td>\n",
       "      <td>All Day</td>\n",
       "      <td>All Day</td>\n",
       "      <td>All Day</td>\n",
       "      <td>All Day</td>\n",
       "      <td>All Day</td>\n",
       "      <td>All Day</td>\n",
       "      <td>All Day</td>\n",
       "      <td>True</td>\n",
       "      <td>Open</td>\n",
       "      <td>False</td>\n",
       "    </tr>\n",
       "  </tbody>\n",
       "</table>\n",
       "<p>1 rows × 44 columns</p>\n",
       "</div>"
      ],
      "text/plain": [
       "   relevanceScore       designation  \\\n",
       "6               1  Memorial Parkway   \n",
       "\n",
       "                                         weatherInfo  \\\n",
       "6  Summers on the parkway are generally hot and h...   \n",
       "\n",
       "                                           addresses  \\\n",
       "6  [{'city': 'McLean', 'countryCode': 'US', 'line...   \n",
       "\n",
       "                                     operating_hours entrancePasses  \\\n",
       "6  {'description': 'The George Washington Memoria...             []   \n",
       "\n",
       "                name                                        description  \\\n",
       "6  George Washington  The George Washington Memorial Parkway was des...   \n",
       "\n",
       "                                       directionsUrl fees  ... monday_hours  \\\n",
       "6  http://www.nps.gov/gwmp/planyourvisit/directio...   []  ...      All Day   \n",
       "\n",
       "  tuesday_hours wednesday_hours thursday_hours friday_hours saturday_hours  \\\n",
       "6       All Day         All Day        All Day      All Day        All Day   \n",
       "\n",
       "   sunday_hours open_seven_days_a_week closed_open is_closed  \n",
       "6       All Day                   True        Open     False  \n",
       "\n",
       "[1 rows x 44 columns]"
      ]
     },
     "execution_count": 5,
     "metadata": {},
     "output_type": "execute_result"
    }
   ],
   "source": [
    "# this gets the first row of the dataframe\n",
    "open_seven_days_df.iloc[0:1]"
   ]
  },
  {
   "cell_type": "code",
   "execution_count": 6,
   "metadata": {},
   "outputs": [
    {
     "data": {
      "text/html": [
       "<div>\n",
       "<style scoped>\n",
       "    .dataframe tbody tr th:only-of-type {\n",
       "        vertical-align: middle;\n",
       "    }\n",
       "\n",
       "    .dataframe tbody tr th {\n",
       "        vertical-align: top;\n",
       "    }\n",
       "\n",
       "    .dataframe thead th {\n",
       "        text-align: right;\n",
       "    }\n",
       "</style>\n",
       "<table border=\"1\" class=\"dataframe\">\n",
       "  <thead>\n",
       "    <tr style=\"text-align: right;\">\n",
       "      <th></th>\n",
       "      <th>relevanceScore</th>\n",
       "      <th>designation</th>\n",
       "      <th>weatherInfo</th>\n",
       "      <th>addresses</th>\n",
       "      <th>operating_hours</th>\n",
       "      <th>entrancePasses</th>\n",
       "      <th>name</th>\n",
       "      <th>description</th>\n",
       "      <th>directionsUrl</th>\n",
       "      <th>fees</th>\n",
       "      <th>...</th>\n",
       "      <th>monday_hours</th>\n",
       "      <th>tuesday_hours</th>\n",
       "      <th>wednesday_hours</th>\n",
       "      <th>thursday_hours</th>\n",
       "      <th>friday_hours</th>\n",
       "      <th>saturday_hours</th>\n",
       "      <th>sunday_hours</th>\n",
       "      <th>open_seven_days_a_week</th>\n",
       "      <th>closed_open</th>\n",
       "      <th>is_closed</th>\n",
       "    </tr>\n",
       "  </thead>\n",
       "  <tbody>\n",
       "    <tr>\n",
       "      <th>6</th>\n",
       "      <td>1</td>\n",
       "      <td>Memorial Parkway</td>\n",
       "      <td>Summers on the parkway are generally hot and h...</td>\n",
       "      <td>[{'city': 'McLean', 'countryCode': 'US', 'line...</td>\n",
       "      <td>{'description': 'The George Washington Memoria...</td>\n",
       "      <td>[]</td>\n",
       "      <td>George Washington</td>\n",
       "      <td>The George Washington Memorial Parkway was des...</td>\n",
       "      <td>http://www.nps.gov/gwmp/planyourvisit/directio...</td>\n",
       "      <td>[]</td>\n",
       "      <td>...</td>\n",
       "      <td>All Day</td>\n",
       "      <td>All Day</td>\n",
       "      <td>All Day</td>\n",
       "      <td>All Day</td>\n",
       "      <td>All Day</td>\n",
       "      <td>All Day</td>\n",
       "      <td>All Day</td>\n",
       "      <td>True</td>\n",
       "      <td>Open</td>\n",
       "      <td>False</td>\n",
       "    </tr>\n",
       "  </tbody>\n",
       "</table>\n",
       "<p>1 rows × 44 columns</p>\n",
       "</div>"
      ],
      "text/plain": [
       "   relevanceScore       designation  \\\n",
       "6               1  Memorial Parkway   \n",
       "\n",
       "                                         weatherInfo  \\\n",
       "6  Summers on the parkway are generally hot and h...   \n",
       "\n",
       "                                           addresses  \\\n",
       "6  [{'city': 'McLean', 'countryCode': 'US', 'line...   \n",
       "\n",
       "                                     operating_hours entrancePasses  \\\n",
       "6  {'description': 'The George Washington Memoria...             []   \n",
       "\n",
       "                name                                        description  \\\n",
       "6  George Washington  The George Washington Memorial Parkway was des...   \n",
       "\n",
       "                                       directionsUrl fees  ... monday_hours  \\\n",
       "6  http://www.nps.gov/gwmp/planyourvisit/directio...   []  ...      All Day   \n",
       "\n",
       "  tuesday_hours wednesday_hours thursday_hours friday_hours saturday_hours  \\\n",
       "6       All Day         All Day        All Day      All Day        All Day   \n",
       "\n",
       "   sunday_hours open_seven_days_a_week closed_open is_closed  \n",
       "6       All Day                   True        Open     False  \n",
       "\n",
       "[1 rows x 44 columns]"
      ]
     },
     "execution_count": 6,
     "metadata": {},
     "output_type": "execute_result"
    }
   ],
   "source": [
    "# this gets the rows of the dataframe with index 6, which happens to be the first row :)\n",
    "open_seven_days_df.loc[6:7]"
   ]
  },
  {
   "cell_type": "markdown",
   "metadata": {},
   "source": [
    "Filtering in pandas is most easily accomplished by supplying conditions when selecting data, for example"
   ]
  },
  {
   "cell_type": "code",
   "execution_count": 7,
   "metadata": {},
   "outputs": [
    {
     "data": {
      "text/html": [
       "<div>\n",
       "<style scoped>\n",
       "    .dataframe tbody tr th:only-of-type {\n",
       "        vertical-align: middle;\n",
       "    }\n",
       "\n",
       "    .dataframe tbody tr th {\n",
       "        vertical-align: top;\n",
       "    }\n",
       "\n",
       "    .dataframe thead th {\n",
       "        text-align: right;\n",
       "    }\n",
       "</style>\n",
       "<table border=\"1\" class=\"dataframe\">\n",
       "  <thead>\n",
       "    <tr style=\"text-align: right;\">\n",
       "      <th></th>\n",
       "      <th>relevanceScore</th>\n",
       "      <th>designation</th>\n",
       "      <th>weatherInfo</th>\n",
       "      <th>addresses</th>\n",
       "      <th>operatingHours</th>\n",
       "      <th>entrancePasses</th>\n",
       "      <th>name</th>\n",
       "      <th>description</th>\n",
       "      <th>directionsUrl</th>\n",
       "      <th>fees</th>\n",
       "      <th>...</th>\n",
       "      <th>activities</th>\n",
       "      <th>url</th>\n",
       "      <th>longitude</th>\n",
       "      <th>id</th>\n",
       "      <th>images</th>\n",
       "      <th>directionsInfo</th>\n",
       "      <th>fullName</th>\n",
       "      <th>parkCode</th>\n",
       "      <th>latLong</th>\n",
       "      <th>latitude</th>\n",
       "    </tr>\n",
       "  </thead>\n",
       "  <tbody>\n",
       "    <tr>\n",
       "      <th>257</th>\n",
       "      <td>1</td>\n",
       "      <td>National Park</td>\n",
       "      <td>Zion is known for a wide range of weather cond...</td>\n",
       "      <td>[{'type': 'Physical', 'line2': '1 Zion Park Bl...</td>\n",
       "      <td>[{'name': 'Zion National Park', 'standardHours...</td>\n",
       "      <td>[]</td>\n",
       "      <td>Zion</td>\n",
       "      <td>Follow the paths where people have walked for ...</td>\n",
       "      <td>http://www.nps.gov/zion/planyourvisit/directio...</td>\n",
       "      <td>[]</td>\n",
       "      <td>...</td>\n",
       "      <td>[{'name': 'Arts and Culture', 'id': '09DF0950-...</td>\n",
       "      <td>https://www.nps.gov/zion/index.htm</td>\n",
       "      <td>-113.026514</td>\n",
       "      <td>41BAB8ED-C95F-447D-9DA1-FCC4E4D808B2</td>\n",
       "      <td>[{'url': 'https://www.nps.gov/common/uploads/s...</td>\n",
       "      <td>Zion National Park's main, south entrance and ...</td>\n",
       "      <td>Zion National Park</td>\n",
       "      <td>zion</td>\n",
       "      <td>lat:37.29839254, long:-113.0265138</td>\n",
       "      <td>37.298393</td>\n",
       "    </tr>\n",
       "  </tbody>\n",
       "</table>\n",
       "<p>1 rows × 24 columns</p>\n",
       "</div>"
      ],
      "text/plain": [
       "     relevanceScore    designation  \\\n",
       "257               1  National Park   \n",
       "\n",
       "                                           weatherInfo  \\\n",
       "257  Zion is known for a wide range of weather cond...   \n",
       "\n",
       "                                             addresses  \\\n",
       "257  [{'type': 'Physical', 'line2': '1 Zion Park Bl...   \n",
       "\n",
       "                                        operatingHours entrancePasses  name  \\\n",
       "257  [{'name': 'Zion National Park', 'standardHours...             []  Zion   \n",
       "\n",
       "                                           description  \\\n",
       "257  Follow the paths where people have walked for ...   \n",
       "\n",
       "                                         directionsUrl fees  ...  \\\n",
       "257  http://www.nps.gov/zion/planyourvisit/directio...   []  ...   \n",
       "\n",
       "                                            activities  \\\n",
       "257  [{'name': 'Arts and Culture', 'id': '09DF0950-...   \n",
       "\n",
       "                                    url   longitude  \\\n",
       "257  https://www.nps.gov/zion/index.htm -113.026514   \n",
       "\n",
       "                                       id  \\\n",
       "257  41BAB8ED-C95F-447D-9DA1-FCC4E4D808B2   \n",
       "\n",
       "                                                images  \\\n",
       "257  [{'url': 'https://www.nps.gov/common/uploads/s...   \n",
       "\n",
       "                                        directionsInfo            fullName  \\\n",
       "257  Zion National Park's main, south entrance and ...  Zion National Park   \n",
       "\n",
       "    parkCode                             latLong   latitude  \n",
       "257     zion  lat:37.29839254, long:-113.0265138  37.298393  \n",
       "\n",
       "[1 rows x 24 columns]"
      ]
     },
     "execution_count": 7,
     "metadata": {},
     "output_type": "execute_result"
    }
   ],
   "source": [
    "parks_df = pd.read_parquet(\"../../data/nps/nps_public_data_parks.parquet\")\n",
    "\n",
    "parks_df[parks_df[\"fullName\"] == \"Zion National Park\"]"
   ]
  },
  {
   "cell_type": "markdown",
   "metadata": {},
   "source": [
    "We can pass any number of boolean operations to successively filter a dataframe this way"
   ]
  },
  {
   "cell_type": "code",
   "execution_count": null,
   "metadata": {},
   "outputs": [],
   "source": [
    "parks_df[parks_df[\"states\"].str.contains(\"UT\") & parks_df[\"states\"].str.contains(\"AZ\")]"
   ]
  },
  {
   "cell_type": "code",
   "execution_count": null,
   "metadata": {},
   "outputs": [],
   "source": [
    "parks_df[\n",
    "    (parks_df[\"states\"].str.contains(\"UT\") & parks_df[\"states\"].str.contains(\"AZ\"))\n",
    "    | parks_df[\"states\"].str.contains(\"WY\")\n",
    "]"
   ]
  },
  {
   "cell_type": "code",
   "execution_count": null,
   "metadata": {},
   "outputs": [],
   "source": [
    "parks_df[\n",
    "    (parks_df[\"longitude\"] < -140)\n",
    "    & (parks_df[\"latitude\"] > 60)\n",
    "    & (parks_df[\"designation\"] == \"National Park\")\n",
    "]"
   ]
  },
  {
   "cell_type": "markdown",
   "metadata": {},
   "source": [
    "We can select entire columns through a familiar notation & combine with our filtering, too"
   ]
  },
  {
   "cell_type": "code",
   "execution_count": null,
   "metadata": {},
   "outputs": [],
   "source": [
    "parks_df[[\"fullName\", \"states\"]]"
   ]
  },
  {
   "cell_type": "code",
   "execution_count": null,
   "metadata": {},
   "outputs": [],
   "source": [
    "parks_df[\n",
    "    (parks_df[\"longitude\"] < -140)\n",
    "    & (parks_df[\"latitude\"] > 60)\n",
    "    & (parks_df[\"designation\"] == \"National Park\")\n",
    "][[\"fullName\", \"states\"]]"
   ]
  }
 ],
 "metadata": {
  "kernelspec": {
   "display_name": ".venv",
   "language": "python",
   "name": "python3"
  },
  "language_info": {
   "codemirror_mode": {
    "name": "ipython",
    "version": 3
   },
   "file_extension": ".py",
   "mimetype": "text/x-python",
   "name": "python",
   "nbconvert_exporter": "python",
   "pygments_lexer": "ipython3",
   "version": "3.12.11"
  }
 },
 "nbformat": 4,
 "nbformat_minor": 2
}
